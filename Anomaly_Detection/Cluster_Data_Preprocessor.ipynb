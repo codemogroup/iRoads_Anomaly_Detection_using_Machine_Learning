{
 "cells": [
  {
   "cell_type": "code",
   "execution_count": 35,
   "metadata": {},
   "outputs": [],
   "source": [
    "import pandas as pd\n",
    "import  numpy  as  np\n",
    "import matplotlib.pyplot as plt\n",
    "from sklearn.model_selection import train_test_split\n",
    "from sklearn.ensemble import RandomForestClassifier\n",
    "from sklearn import preprocessing\n",
    "from sklearn.model_selection import cross_val_score\n",
    "from sklearn.model_selection import GridSearchCV\n",
    "import seaborn as sns\n",
    "from imblearn.over_sampling import RandomOverSampler\n",
    "from imblearn.over_sampling import SMOTE\n",
    "from pandas_ml import ConfusionMatrix\n",
    "from scipy.fftpack import fft"
   ]
  },
  {
   "cell_type": "code",
   "execution_count": 36,
   "metadata": {
    "scrolled": true
   },
   "outputs": [
    {
     "data": {
      "text/html": [
       "<div>\n",
       "<style scoped>\n",
       "    .dataframe tbody tr th:only-of-type {\n",
       "        vertical-align: middle;\n",
       "    }\n",
       "\n",
       "    .dataframe tbody tr th {\n",
       "        vertical-align: top;\n",
       "    }\n",
       "\n",
       "    .dataframe thead th {\n",
       "        text-align: right;\n",
       "    }\n",
       "</style>\n",
       "<table border=\"1\" class=\"dataframe\">\n",
       "  <thead>\n",
       "    <tr style=\"text-align: right;\">\n",
       "      <th></th>\n",
       "      <th>anomaly</th>\n",
       "      <th>lat</th>\n",
       "      <th>lon</th>\n",
       "      <th>time</th>\n",
       "    </tr>\n",
       "  </thead>\n",
       "  <tbody>\n",
       "    <tr>\n",
       "      <th>0</th>\n",
       "      <td>A</td>\n",
       "      <td>6.765363</td>\n",
       "      <td>79.948124</td>\n",
       "      <td>1538098834294</td>\n",
       "    </tr>\n",
       "    <tr>\n",
       "      <th>1</th>\n",
       "      <td>N</td>\n",
       "      <td>6.765363</td>\n",
       "      <td>79.948124</td>\n",
       "      <td>1538098834379</td>\n",
       "    </tr>\n",
       "    <tr>\n",
       "      <th>2</th>\n",
       "      <td>N</td>\n",
       "      <td>6.765363</td>\n",
       "      <td>79.948124</td>\n",
       "      <td>1538098834482</td>\n",
       "    </tr>\n",
       "    <tr>\n",
       "      <th>3</th>\n",
       "      <td>N</td>\n",
       "      <td>6.765305</td>\n",
       "      <td>79.948123</td>\n",
       "      <td>1538098834599</td>\n",
       "    </tr>\n",
       "    <tr>\n",
       "      <th>4</th>\n",
       "      <td>N</td>\n",
       "      <td>6.765305</td>\n",
       "      <td>79.948123</td>\n",
       "      <td>1538098834700</td>\n",
       "    </tr>\n",
       "  </tbody>\n",
       "</table>\n",
       "</div>"
      ],
      "text/plain": [
       "  anomaly       lat        lon           time\n",
       "0       A  6.765363  79.948124  1538098834294\n",
       "1       N  6.765363  79.948124  1538098834379\n",
       "2       N  6.765363  79.948124  1538098834482\n",
       "3       N  6.765305  79.948123  1538098834599\n",
       "4       N  6.765305  79.948123  1538098834700"
      ]
     },
     "execution_count": 36,
     "metadata": {},
     "output_type": "execute_result"
    }
   ],
   "source": [
    "raw_data_file_name= \"Fourier_Based_Prediction/qixroq6.json\"\n",
    "raw_data = pd.read_json(raw_data_file_name)\n",
    "raw_data.head(5)"
   ]
  },
  {
   "cell_type": "code",
   "execution_count": 37,
   "metadata": {
    "scrolled": true
   },
   "outputs": [
    {
     "data": {
      "text/plain": [
       "(6691, 4)"
      ]
     },
     "execution_count": 37,
     "metadata": {},
     "output_type": "execute_result"
    }
   ],
   "source": [
    "raw_data = raw_data[raw_data.anomaly != 'N']\n",
    "raw_data.shape"
   ]
  },
  {
   "cell_type": "code",
   "execution_count": 38,
   "metadata": {
    "scrolled": true
   },
   "outputs": [
    {
     "data": {
      "text/plain": [
       "(2245, 5)"
      ]
     },
     "execution_count": 38,
     "metadata": {},
     "output_type": "execute_result"
    }
   ],
   "source": [
    "raw_data['sum'] =  raw_data.lat.astype(str) + raw_data.lon.astype(str)\n",
    "raw_data = raw_data.drop_duplicates(subset='sum', keep=\"first\")\n",
    "raw_data.shape"
   ]
  },
  {
   "cell_type": "code",
   "execution_count": 39,
   "metadata": {},
   "outputs": [
    {
     "data": {
      "text/plain": [
       "(4490, 5)"
      ]
     },
     "execution_count": 39,
     "metadata": {},
     "output_type": "execute_result"
    }
   ],
   "source": [
    "raw_data_file_name= \"Fourier_Based_Prediction/gfysqe.json\"\n",
    "test_data = pd.read_json(raw_data_file_name)\n",
    "test_data = test_data[test_data.anomaly != 'N']\n",
    "test_data['sum'] =  test_data.lat.astype(str) + test_data.lon.astype(str)\n",
    "test_data = test_data.drop_duplicates(subset='sum', keep=\"first\")\n",
    "raw_data = raw_data.append(test_data, ignore_index=True)\n",
    "raw_data.shape"
   ]
  },
  {
   "cell_type": "code",
   "execution_count": 40,
   "metadata": {},
   "outputs": [
    {
     "data": {
      "text/plain": [
       "(7719, 5)"
      ]
     },
     "execution_count": 40,
     "metadata": {},
     "output_type": "execute_result"
    }
   ],
   "source": [
    "raw_data_file_name= \"Fourier_Based_Prediction/Bandaragama_Road_Weralugas_Junction.json\"\n",
    "test_data = pd.read_json(raw_data_file_name)\n",
    "test_data = test_data[test_data.anomaly != 'N']\n",
    "test_data['sum'] =  test_data.lat.astype(str) + test_data.lon.astype(str)\n",
    "test_data = test_data.drop_duplicates(subset='sum', keep=\"first\")\n",
    "raw_data = raw_data.append(test_data, ignore_index=True)\n",
    "raw_data.shape"
   ]
  },
  {
   "cell_type": "code",
   "execution_count": 41,
   "metadata": {},
   "outputs": [
    {
     "data": {
      "text/plain": [
       "(10810, 5)"
      ]
     },
     "execution_count": 41,
     "metadata": {},
     "output_type": "execute_result"
    }
   ],
   "source": [
    "raw_data_file_name= \"Fourier_Based_Prediction/Kesbewa_Kosgashandiya_Road_Weralugas_Junction_2.json\"\n",
    "test_data = pd.read_json(raw_data_file_name)\n",
    "test_data = test_data[test_data.anomaly != 'N']\n",
    "test_data['sum'] =  test_data.lat.astype(str) + test_data.lon.astype(str)\n",
    "test_data = test_data.drop_duplicates(subset='sum', keep=\"first\")\n",
    "raw_data = raw_data.append(test_data, ignore_index=True)\n",
    "raw_data.shape"
   ]
  },
  {
   "cell_type": "code",
   "execution_count": 42,
   "metadata": {},
   "outputs": [
    {
     "data": {
      "text/plain": [
       "(12215, 5)"
      ]
     },
     "execution_count": 42,
     "metadata": {},
     "output_type": "execute_result"
    }
   ],
   "source": [
    "raw_data_file_name= \"Fourier_Based_Prediction/BekkegamaRoadEluwila.json\"\n",
    "test_data = pd.read_json(raw_data_file_name)\n",
    "test_data = test_data[test_data.anomaly != 'N']\n",
    "test_data['sum'] =  test_data.lat.astype(str) + test_data.lon.astype(str)\n",
    "test_data = test_data.drop_duplicates(subset='sum', keep=\"first\")\n",
    "raw_data = raw_data.append(test_data, ignore_index=True)\n",
    "raw_data.shape"
   ]
  },
  {
   "cell_type": "code",
   "execution_count": 43,
   "metadata": {},
   "outputs": [
    {
     "data": {
      "text/plain": [
       "(15044, 5)"
      ]
     },
     "execution_count": 43,
     "metadata": {},
     "output_type": "execute_result"
    }
   ],
   "source": [
    "raw_data_file_name= \"Fourier_Based_Prediction/Kesbewa_Kosgashandiya_Road_Weralugas_Junction.json\"\n",
    "test_data = pd.read_json(raw_data_file_name)\n",
    "test_data = test_data[test_data.anomaly != 'N']\n",
    "test_data['sum'] =  test_data.lat.astype(str) + test_data.lon.astype(str)\n",
    "test_data = test_data.drop_duplicates(subset='sum', keep=\"first\")\n",
    "raw_data = raw_data.append(test_data, ignore_index=True)\n",
    "raw_data.shape"
   ]
  },
  {
   "cell_type": "code",
   "execution_count": 44,
   "metadata": {},
   "outputs": [
    {
     "data": {
      "text/plain": [
       "(18569, 5)"
      ]
     },
     "execution_count": 44,
     "metadata": {},
     "output_type": "execute_result"
    }
   ],
   "source": [
    "raw_data_file_name= \"Fourier_Based_Prediction/Salon_my_style_piliyandala_Piliyandala_Kottawa_Road.json\"\n",
    "test_data = pd.read_json(raw_data_file_name)\n",
    "test_data = test_data[test_data.anomaly != 'N']\n",
    "test_data['sum'] =  test_data.lat.astype(str) + test_data.lon.astype(str)\n",
    "test_data = test_data.drop_duplicates(subset='sum', keep=\"first\")\n",
    "raw_data = raw_data.append(test_data, ignore_index=True)\n",
    "raw_data.shape"
   ]
  },
  {
   "cell_type": "code",
   "execution_count": 45,
   "metadata": {},
   "outputs": [
    {
     "data": {
      "text/plain": [
       "count     18569\n",
       "unique        1\n",
       "top           A\n",
       "freq      18569\n",
       "Name: anomaly, dtype: object"
      ]
     },
     "execution_count": 45,
     "metadata": {},
     "output_type": "execute_result"
    }
   ],
   "source": [
    "raw_data['anomaly'].describe()"
   ]
  },
  {
   "cell_type": "code",
   "execution_count": 46,
   "metadata": {},
   "outputs": [
    {
     "data": {
      "text/plain": [
       "(18569, 5)"
      ]
     },
     "execution_count": 46,
     "metadata": {},
     "output_type": "execute_result"
    }
   ],
   "source": [
    "raw_data = raw_data[raw_data.anomaly != 'N']\n",
    "raw_data.shape"
   ]
  },
  {
   "cell_type": "code",
   "execution_count": 47,
   "metadata": {},
   "outputs": [
    {
     "data": {
      "text/html": [
       "<div>\n",
       "<style scoped>\n",
       "    .dataframe tbody tr th:only-of-type {\n",
       "        vertical-align: middle;\n",
       "    }\n",
       "\n",
       "    .dataframe tbody tr th {\n",
       "        vertical-align: top;\n",
       "    }\n",
       "\n",
       "    .dataframe thead th {\n",
       "        text-align: right;\n",
       "    }\n",
       "</style>\n",
       "<table border=\"1\" class=\"dataframe\">\n",
       "  <thead>\n",
       "    <tr style=\"text-align: right;\">\n",
       "      <th></th>\n",
       "      <th>anomaly</th>\n",
       "      <th>lat</th>\n",
       "      <th>lon</th>\n",
       "      <th>time</th>\n",
       "      <th>sum</th>\n",
       "    </tr>\n",
       "  </thead>\n",
       "  <tbody>\n",
       "    <tr>\n",
       "      <th>0</th>\n",
       "      <td>A</td>\n",
       "      <td>6.765363</td>\n",
       "      <td>79.948124</td>\n",
       "      <td>1538098834294</td>\n",
       "      <td>6.765362579.9481239</td>\n",
       "    </tr>\n",
       "    <tr>\n",
       "      <th>1</th>\n",
       "      <td>A</td>\n",
       "      <td>6.762061</td>\n",
       "      <td>79.947951</td>\n",
       "      <td>1538098868239</td>\n",
       "      <td>6.762061380000000579.94795058</td>\n",
       "    </tr>\n",
       "    <tr>\n",
       "      <th>2</th>\n",
       "      <td>A</td>\n",
       "      <td>6.760512</td>\n",
       "      <td>79.947796</td>\n",
       "      <td>1538098885524</td>\n",
       "      <td>6.7605118179.94779643</td>\n",
       "    </tr>\n",
       "    <tr>\n",
       "      <th>3</th>\n",
       "      <td>A</td>\n",
       "      <td>6.760431</td>\n",
       "      <td>79.947789</td>\n",
       "      <td>1538098886640</td>\n",
       "      <td>6.760430979.947789</td>\n",
       "    </tr>\n",
       "    <tr>\n",
       "      <th>4</th>\n",
       "      <td>A</td>\n",
       "      <td>6.760327</td>\n",
       "      <td>79.947779</td>\n",
       "      <td>1538098887639</td>\n",
       "      <td>6.7603271579.94777885</td>\n",
       "    </tr>\n",
       "  </tbody>\n",
       "</table>\n",
       "</div>"
      ],
      "text/plain": [
       "  anomaly       lat        lon           time                            sum\n",
       "0       A  6.765363  79.948124  1538098834294            6.765362579.9481239\n",
       "1       A  6.762061  79.947951  1538098868239  6.762061380000000579.94795058\n",
       "2       A  6.760512  79.947796  1538098885524          6.7605118179.94779643\n",
       "3       A  6.760431  79.947789  1538098886640             6.760430979.947789\n",
       "4       A  6.760327  79.947779  1538098887639          6.7603271579.94777885"
      ]
     },
     "execution_count": 47,
     "metadata": {},
     "output_type": "execute_result"
    }
   ],
   "source": [
    "raw_data.head()"
   ]
  },
  {
   "cell_type": "code",
   "execution_count": 48,
   "metadata": {},
   "outputs": [
    {
     "data": {
      "text/html": [
       "<div>\n",
       "<style scoped>\n",
       "    .dataframe tbody tr th:only-of-type {\n",
       "        vertical-align: middle;\n",
       "    }\n",
       "\n",
       "    .dataframe tbody tr th {\n",
       "        vertical-align: top;\n",
       "    }\n",
       "\n",
       "    .dataframe thead th {\n",
       "        text-align: right;\n",
       "    }\n",
       "</style>\n",
       "<table border=\"1\" class=\"dataframe\">\n",
       "  <thead>\n",
       "    <tr style=\"text-align: right;\">\n",
       "      <th></th>\n",
       "      <th>anomaly</th>\n",
       "      <th>lat</th>\n",
       "      <th>lon</th>\n",
       "    </tr>\n",
       "  </thead>\n",
       "  <tbody>\n",
       "    <tr>\n",
       "      <th>0</th>\n",
       "      <td>A</td>\n",
       "      <td>6.765363</td>\n",
       "      <td>79.948124</td>\n",
       "    </tr>\n",
       "    <tr>\n",
       "      <th>1</th>\n",
       "      <td>A</td>\n",
       "      <td>6.762061</td>\n",
       "      <td>79.947951</td>\n",
       "    </tr>\n",
       "    <tr>\n",
       "      <th>2</th>\n",
       "      <td>A</td>\n",
       "      <td>6.760512</td>\n",
       "      <td>79.947796</td>\n",
       "    </tr>\n",
       "    <tr>\n",
       "      <th>3</th>\n",
       "      <td>A</td>\n",
       "      <td>6.760431</td>\n",
       "      <td>79.947789</td>\n",
       "    </tr>\n",
       "    <tr>\n",
       "      <th>4</th>\n",
       "      <td>A</td>\n",
       "      <td>6.760327</td>\n",
       "      <td>79.947779</td>\n",
       "    </tr>\n",
       "  </tbody>\n",
       "</table>\n",
       "</div>"
      ],
      "text/plain": [
       "  anomaly       lat        lon\n",
       "0       A  6.765363  79.948124\n",
       "1       A  6.762061  79.947951\n",
       "2       A  6.760512  79.947796\n",
       "3       A  6.760431  79.947789\n",
       "4       A  6.760327  79.947779"
      ]
     },
     "execution_count": 48,
     "metadata": {},
     "output_type": "execute_result"
    }
   ],
   "source": [
    "features = ['anomaly', 'lat', 'lon']\n",
    "raw_data = raw_data[features]\n",
    "raw_data.head()"
   ]
  },
  {
   "cell_type": "code",
   "execution_count": 49,
   "metadata": {},
   "outputs": [
    {
     "data": {
      "text/plain": [
       "count     18569\n",
       "unique        1\n",
       "top           A\n",
       "freq      18569\n",
       "Name: anomaly, dtype: object"
      ]
     },
     "execution_count": 49,
     "metadata": {},
     "output_type": "execute_result"
    }
   ],
   "source": [
    "raw_data['anomaly'].describe()"
   ]
  },
  {
   "cell_type": "code",
   "execution_count": 50,
   "metadata": {
    "scrolled": true
   },
   "outputs": [],
   "source": [
    "raw_data.to_json(\"Data_to_Clustered/dilum_sir_route_without_duplications_Fourier.json\", orient='records')"
   ]
  },
  {
   "cell_type": "code",
   "execution_count": null,
   "metadata": {},
   "outputs": [],
   "source": []
  }
 ],
 "metadata": {
  "kernelspec": {
   "display_name": "Python 3",
   "language": "python",
   "name": "python3"
  },
  "language_info": {
   "codemirror_mode": {
    "name": "ipython",
    "version": 3
   },
   "file_extension": ".py",
   "mimetype": "text/x-python",
   "name": "python",
   "nbconvert_exporter": "python",
   "pygments_lexer": "ipython3",
   "version": "3.6.6"
  }
 },
 "nbformat": 4,
 "nbformat_minor": 2
}
